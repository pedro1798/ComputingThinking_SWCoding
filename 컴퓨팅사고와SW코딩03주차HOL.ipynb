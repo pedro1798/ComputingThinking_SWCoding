{
 "cells": [
  {
   "cell_type": "code",
   "execution_count": 2,
   "id": "d76359b5",
   "metadata": {},
   "outputs": [
    {
     "name": "stdout",
     "output_type": "stream",
     "text": [
      "game_score = 50\n",
      "game_score = 1000\n",
      "당신은 고수입니다\n"
     ]
    }
   ],
   "source": [
    "#LAB 3-1\n",
    "#1\n",
    "tf = True\n",
    "while tf:\n",
    "    score = int(input(\"game_score = \"))\n",
    "    if score >= 1000 :\n",
    "        print(\"당신은 고수입니다\")\n",
    "        tf = False"
   ]
  },
  {
   "cell_type": "code",
   "execution_count": 7,
   "id": "1071b501",
   "metadata": {},
   "outputs": [
    {
     "name": "stdout",
     "output_type": "stream",
     "text": [
      "두 값이 일치합니다.\n"
     ]
    }
   ],
   "source": [
    "#2\n",
    "num_a = 100\n",
    "num_b = 200\n",
    "if num_a == num_b : \n",
    "    print(\"두 값이 일치합니다.\")\n",
    "num_a = 300\n",
    "num_b = 300\n",
    "if num_a == num_b : \n",
    "    print(\"두 값이 일치합니다.\")"
   ]
  },
  {
   "cell_type": "code",
   "execution_count": 9,
   "id": "2539a429",
   "metadata": {},
   "outputs": [
    {
     "name": "stdout",
     "output_type": "stream",
     "text": [
      "정수를 입력하세요 : 26\n",
      "26\n",
      "26  은(는) 짝수입니다.\n"
     ]
    }
   ],
   "source": [
    "#LAB 3-2\n",
    "#1\n",
    "integer = int(input(\"정수를 입력하세요 : \"))\n",
    "print(integer)\n",
    "if integer % 2 == 0:\n",
    "    print(integer, \" 은(는) 짝수입니다.\")"
   ]
  },
  {
   "cell_type": "code",
   "execution_count": 15,
   "id": "4f02c80c",
   "metadata": {},
   "outputs": [
    {
     "name": "stdout",
     "output_type": "stream",
     "text": [
      "정수를 입력하세요 : -10\n",
      "x =  -10\n"
     ]
    }
   ],
   "source": [
    "#2\n",
    "integer = int(input(\"정수를 입력하세요 : \"))\n",
    "\n",
    "if integer > 0:\n",
    "    print(\"x = \", integer)\n",
    "    print(integer, \" 은(는) 자연수입니다.\")\n",
    "else:\n",
    "    print(\"x = \", integer)"
   ]
  },
  {
   "cell_type": "code",
   "execution_count": 18,
   "id": "328b9be6",
   "metadata": {},
   "outputs": [
    {
     "name": "stdout",
     "output_type": "stream",
     "text": [
      "게임점수를 입력하시오 : 800\n",
      "game_score = 800\n",
      "입문자입니다.\n"
     ]
    }
   ],
   "source": [
    "#LAB 3-3\n",
    "#1\n",
    "game_score = int(input(\"게임점수를 입력하시오 : \"))\n",
    "print(f\"game_score = {game_score}\")\n",
    "if game_score < 1000:\n",
    "    print(\"입문자입니다.\")\n",
    "else:\n",
    "    print(\"고수입니다.\")"
   ]
  },
  {
   "cell_type": "code",
   "execution_count": null,
   "id": "ffbe8144",
   "metadata": {},
   "outputs": [],
   "source": [
    "#2\n",
    "int1 = int(input(\"한 정수를 입력하시오 : \"))\n",
    "int2 = int(input(\"다른 정수를 입력하시오 : \"))\n",
    "if int1 == int2:\n",
    "    print(\"두 값이 일치합니다.\")\n",
    "else:\n",
    "    print(\"두 값이 일치하지 않습니다.\")"
   ]
  },
  {
   "cell_type": "code",
   "execution_count": null,
   "id": "ca5c6ecd",
   "metadata": {},
   "outputs": [],
   "source": [
    "#3(1)\n",
    "age = int(input(\"당신은 성인인가요(성인이면 1, 미성년이면 0): \"))\n",
    "if age == 1:\n",
    "    print(\"당신은 성인입니다.\")\n",
    "elif age== 0:\n",
    "    print(\"당신은 미성년자입니다.\")\n",
    "else:\n",
    "    print(\"숫자를 잘못 입력하였습니다.\")"
   ]
  },
  {
   "cell_type": "code",
   "execution_count": null,
   "id": "56686f23",
   "metadata": {},
   "outputs": [],
   "source": [
    "#3(2)\n",
    "age = int(input(\"당신은 성인인가요(성인이면 1, 미성년이면 0): \"))\n",
    "if age == 0:\n",
    "    print(\"당신은 미성년자입니다.\")\n",
    "elif age == 1:\n",
    "    print(\"결혼을 하셨나요(기혼이면 1, 미혼이면 0): \", end=\"\")\n",
    "    marry = int(input())\n",
    "    if marry == 1:\n",
    "        print(\"당신은 결혼한 성인입니다.\")\n",
    "    else:\n",
    "        print(\"당신은 결혼하지 않은 성인입니다.\")\n",
    "else:\n",
    "    print(\"숫자를 잘못 입력했습니다.\")"
   ]
  },
  {
   "cell_type": "code",
   "execution_count": null,
   "id": "5b53dda6",
   "metadata": {},
   "outputs": [],
   "source": [
    "#LAB 3-4\n",
    "#1.\n",
    "num = int(input(\"num = \"))\n",
    "if num > 1 & num < 10:\n",
    "    print(\"True\")\n",
    "else : print(\"False\")"
   ]
  },
  {
   "cell_type": "code",
   "execution_count": null,
   "id": "c68554e3",
   "metadata": {},
   "outputs": [],
   "source": [
    "#2. \n",
    "age = int(input(\"age = \"))\n",
    "if age > 10 & age < 19 : \n",
    "    print(\"청소년입니다.\")\n",
    "else:\n",
    "    print(\"청소년이 아닙니다.\")"
   ]
  },
  {
   "cell_type": "code",
   "execution_count": 24,
   "id": "cc41cbb1",
   "metadata": {},
   "outputs": [
    {
     "name": "stdout",
     "output_type": "stream",
     "text": [
      "자동차의 속도를 입력하세요(단위 : km/h): 150\n",
      "고속\n"
     ]
    }
   ],
   "source": [
    "#LAB 3-5\n",
    "speed = int(input(\"자동차의 속도를 입력하세요(단위 : km/h): \"))\n",
    "if speed >= 100:\n",
    "    print(\"고속\")\n",
    "elif speed <100 & speed >= 60:\n",
    "    print(\"중속\")\n",
    "else:\n",
    "    print(\"저속\")"
   ]
  },
  {
   "cell_type": "code",
   "execution_count": 25,
   "id": "889ee32b",
   "metadata": {},
   "outputs": [
    {
     "name": "stdout",
     "output_type": "stream",
     "text": [
      "Hello, Python!\n",
      "Hello, Python!\n",
      "Hello, Python!\n",
      "Hello, Python!\n",
      "Hello, Python!\n"
     ]
    }
   ],
   "source": [
    "#LAB 3-6\n",
    "for i in range(5):\n",
    "    print(\"Hello, Python!\")"
   ]
  },
  {
   "cell_type": "code",
   "execution_count": 26,
   "id": "3d2fde15",
   "metadata": {},
   "outputs": [
    {
     "name": "stdout",
     "output_type": "stream",
     "text": [
      "0\n",
      "1\n",
      "2\n",
      "3\n",
      "4\n"
     ]
    }
   ],
   "source": [
    "for i in range(5):\n",
    "    print(i)"
   ]
  },
  {
   "cell_type": "code",
   "execution_count": 27,
   "id": "ebd3344a",
   "metadata": {},
   "outputs": [
    {
     "name": "stdout",
     "output_type": "stream",
     "text": [
      "[1, 2, 3, 4, 5, 6, 7, 8, 9, 10, 11, 12, 13, 14, 15, 16, 17, 18, 19, 20, 21, 22, 23, 24, 25, 26, 27, 28, 29, 30, 31, 32, 33, 34, 35, 36, 37, 38, 39, 40, 41, 42, 43, 44, 45, 46, 47, 48, 49, 50, 51, 52, 53, 54, 55, 56, 57, 58, 59, 60, 61, 62, 63, 64, 65, 66, 67, 68, 69, 70, 71, 72, 73, 74, 75, 76, 77, 78, 79, 80, 81, 82, 83, 84, 85, 86, 87, 88, 89, 90, 91, 92, 93, 94, 95, 96, 97, 98, 99, 100]\n"
     ]
    }
   ],
   "source": [
    "#LAB 3-7, 1\n",
    "a = []\n",
    "for i in range(1, 101):\n",
    "    a.append(i)\n",
    "print(list(a))"
   ]
  },
  {
   "cell_type": "code",
   "execution_count": 28,
   "id": "2cc77c87",
   "metadata": {},
   "outputs": [
    {
     "name": "stdout",
     "output_type": "stream",
     "text": [
      "[2, 4, 6, 8, 10, 12, 14, 16, 18, 20, 22, 24, 26, 28, 30, 32, 34, 36, 38, 40, 42, 44, 46, 48, 50, 52, 54, 56, 58, 60, 62, 64, 66, 68, 70, 72, 74, 76, 78, 80, 82, 84, 86, 88, 90, 92, 94, 96, 98, 100]\n"
     ]
    }
   ],
   "source": [
    "#LAB 3-7, 2\n",
    "a = []\n",
    "for i in range(2, 102, 2):\n",
    "    a.append(i)\n",
    "print(list(a))"
   ]
  },
  {
   "cell_type": "code",
   "execution_count": 31,
   "id": "f07f0900",
   "metadata": {},
   "outputs": [
    {
     "name": "stdout",
     "output_type": "stream",
     "text": [
      "[1, 3, 5, 7, 9, 11, 13, 15, 17, 19, 21, 23, 25, 27, 29, 31, 33, 35, 37, 39, 41, 43, 45, 47, 49, 51, 53, 55, 57, 59, 61, 63, 65, 67, 69, 71, 73, 75, 77, 79, 81, 83, 85, 87, 89, 91, 93, 95, 97, 99]\n"
     ]
    }
   ],
   "source": [
    "#LAB 3-7, 3\n",
    "a = []\n",
    "for i in range(1, 101, 2):\n",
    "    a.append(i)\n",
    "print(list(a))"
   ]
  },
  {
   "cell_type": "code",
   "execution_count": 32,
   "id": "ecbfb556",
   "metadata": {},
   "outputs": [
    {
     "name": "stdout",
     "output_type": "stream",
     "text": [
      "[-99, -98, -97, -96, -95, -94, -93, -92, -91, -90, -89, -88, -87, -86, -85, -84, -83, -82, -81, -80, -79, -78, -77, -76, -75, -74, -73, -72, -71, -70, -69, -68, -67, -66, -65, -64, -63, -62, -61, -60, -59, -58, -57, -56, -55, -54, -53, -52, -51, -50, -49, -48, -47, -46, -45, -44, -43, -42, -41, -40, -39, -38, -37, -36, -35, -34, -33, -32, -31, -30, -29, -28, -27, -26, -25, -24, -23, -22, -21, -20, -19, -18, -17, -16, -15, -14, -13, -12, -11, -10, -9, -8, -7, -6, -5, -4, -3, -2, -1]\n"
     ]
    }
   ],
   "source": [
    "#LAB 3-7, 4\n",
    "a = []\n",
    "for i in range(-99, 0,):\n",
    "    a.append(i)\n",
    "print(list(a))"
   ]
  },
  {
   "cell_type": "code",
   "execution_count": 33,
   "id": "7bceeeb8",
   "metadata": {},
   "outputs": [
    {
     "name": "stdout",
     "output_type": "stream",
     "text": [
      "5050\n"
     ]
    }
   ],
   "source": [
    "#LAB 3-8, 1\n",
    "sum = 0\n",
    "for i in range(1, 101):\n",
    "    sum += i\n",
    "print(sum)"
   ]
  },
  {
   "cell_type": "code",
   "execution_count": 37,
   "id": "9cad0167",
   "metadata": {},
   "outputs": [
    {
     "name": "stdout",
     "output_type": "stream",
     "text": [
      "2550\n"
     ]
    }
   ],
   "source": [
    "#LAB 3-8, 2\n",
    "sum = 0\n",
    "for i in range(0, 102, 2):\n",
    "    sum += i\n",
    "print(sum)"
   ]
  },
  {
   "cell_type": "code",
   "execution_count": 39,
   "id": "600d2be5",
   "metadata": {},
   "outputs": [
    {
     "name": "stdout",
     "output_type": "stream",
     "text": [
      "2500\n"
     ]
    }
   ],
   "source": [
    "#LAB 3-8, 3\n",
    "sum = 0\n",
    "for i in range(1, 100, 2):\n",
    "    sum += i\n",
    "print(sum)"
   ]
  },
  {
   "cell_type": "code",
   "execution_count": 40,
   "id": "468f42e4",
   "metadata": {},
   "outputs": [
    {
     "name": "stdout",
     "output_type": "stream",
     "text": [
      "       #\n",
      "      #\n",
      "     #\n",
      "    #\n",
      "   #\n",
      "  #\n",
      " #\n"
     ]
    }
   ],
   "source": [
    "#LAB 3-9, 1\n",
    "# 이중 for문으로 어떻게 구현하죠..\n",
    "for i in range(0,7):\n",
    "    print(\" \" * (6-i), \"#\")"
   ]
  },
  {
   "cell_type": "code",
   "execution_count": null,
   "id": "4b317efe",
   "metadata": {},
   "outputs": [],
   "source": []
  }
 ],
 "metadata": {
  "kernelspec": {
   "display_name": "Python 3 (ipykernel)",
   "language": "python",
   "name": "python3"
  },
  "language_info": {
   "codemirror_mode": {
    "name": "ipython",
    "version": 3
   },
   "file_extension": ".py",
   "mimetype": "text/x-python",
   "name": "python",
   "nbconvert_exporter": "python",
   "pygments_lexer": "ipython3",
   "version": "3.9.7"
  }
 },
 "nbformat": 4,
 "nbformat_minor": 5
}
