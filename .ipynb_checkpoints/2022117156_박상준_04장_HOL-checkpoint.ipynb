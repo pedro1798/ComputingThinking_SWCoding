{
 "cells": [
  {
   "cell_type": "markdown",
   "id": "c3c6dedf",
   "metadata": {},
   "source": [
    "# 4장 함수와 입출력 HOL\n",
    "## 독어독문학과 2022117156 박상준\n",
    "> https://github.com/pedro1798"
   ]
  },
  {
   "cell_type": "markdown",
   "id": "cb8563ab",
   "metadata": {},
   "source": [
    "LAB 4-1\n",
    "1. print_star() 함수가 실행되지 않는다.\n",
    "2.\n",
    "<pre><code>\n",
    "def print_star():\n",
    "    for i in range(6):\n",
    "        print(\"************************\")\n",
    "</pre></code>"
   ]
  },
  {
   "cell_type": "markdown",
   "id": "17d524da",
   "metadata": {},
   "source": [
    "LAB 4-2\n",
    "\n",
    "1.<pre><code>\n",
    "def print_star5():\n",
    "    print('************************')\n",
    "    print('************************')\n",
    "    print('************************')\n",
    "    print('************************')\n",
    "    print('************************')\n",
    "print_star5()\n",
    "print_star5()\n",
    "\n",
    "</code></pre>"
   ]
  },
  {
   "cell_type": "markdown",
   "id": "591ab04d",
   "metadata": {},
   "source": [
    "LAB 4-3\n",
    "\n",
    "1. \n",
    "def print_hash():\n",
    "    print(\"#######################\")\n",
    "2.\n",
    "def print_star():\n",
    "    print('************************')\n",
    "def print_plus(): \n",
    "    print('++++++++++++++++++++++++')\n",
    "    \n",
    "print_hash() \n",
    "print_star() \n",
    "print_plus()\n",
    "print_plus()\n",
    "print_star()\n",
    "print_hash()"
   ]
  },
  {
   "cell_type": "markdown",
   "id": "183061b7",
   "metadata": {},
   "source": [
    "LAB 4-4\n",
    "\n",
    "1.\n",
    "\n",
    "def print_star(n):\n",
    "    for _ in range(n):\n",
    "        print('************************')\n",
    "print_star(10)\n",
    "\n",
    "2.\n",
    "\n",
    "def print_hash(n):\n",
    "    for _ in range(n):\n",
    "        print('###########################')\n",
    "print_hash(10)\n",
    "\n",
    "3.\n",
    "\n",
    "print_hash(6)\n",
    "\n",
    "4.\n",
    "\n",
    "def print_hash(n):\n",
    "    for i in range(n):\n",
    "        print(f\"{i} ###########################\")\n",
    "\n"
   ]
  },
  {
   "cell_type": "markdown",
   "id": "6f07102d",
   "metadata": {},
   "source": [
    "LAB 4-5\n",
    "\n",
    "1.\n",
    "\n",
    "def print_sub(a, b):\n",
    "    print(f\"{a}와 {b}의 차는 {a-b} 입니다.\")\n",
    "    \n",
    "2.\n",
    "\n",
    "def print_mul(a, b):\n",
    "    print(f\"{a}와 {b}의 곱은 {a*b}입니다.\")"
   ]
  },
  {
   "cell_type": "markdown",
   "id": "db2e66c1",
   "metadata": {},
   "source": [
    "LAB 4-6\n",
    "\n",
    "1.\n",
    "\n",
    "def print_root(a, b, c):\n",
    "    r1 = (-b + (b ** 2 - 4 * a * c) ** 0.5) / (2 * a)\n",
    "    r2 = (-b - (b ** 2 - 4 * a * c) ** 0.5) / (2 * a)\n",
    "    print('해는', r1, '또는', r2)\n",
    "print_root(1, 4, -21)\n",
    "print_root(1, -6, 8)\n",
    "\n",
    "2.\n",
    "\n",
    "def print_area(width, height):\n",
    "    print(f\"밑변 {width}, 높이 {height}인 삼각형의 면적은 : {width * height // 2}\")\n",
    "print_area(10, 20)"
   ]
  },
  {
   "cell_type": "markdown",
   "id": "7f09fe33",
   "metadata": {},
   "source": [
    "LAB 4-7\n",
    "\n",
    "1.\n",
    "\n",
    "def circle_area_circum(radius):\n",
    "    return (3.14 * radius ** 2), (2 * radius * 3.14)\n",
    "\n",
    "area, circum = circle_area_circum(10)\n",
    "print(f\"반지름이 {10}인 원의 면적은 {area}, 원의 둘레는 {(circum):.1f}\")"
   ]
  },
  {
   "cell_type": "markdown",
   "id": "0bba4dea",
   "metadata": {},
   "source": [
    "LAB 4-8\n",
    "\n",
    "1.\n",
    "\n",
    "def multiples(a, b):\n",
    "    arr = []\n",
    "    for i in range(1, b+1):\n",
    "        arr.append(a * i)\n",
    "    return arr\n",
    "r1, r2, r3, r4 = multiples(3, 4)\n",
    "print(r1, r2, r3, r4)\n",
    "\n",
    "r1, r2, r3, r4, r5 = multiples(2, 5)\n",
    "print(r1, r2, r3, r4, r5)\n"
   ]
  },
  {
   "cell_type": "markdown",
   "id": "c152e8fb",
   "metadata": {},
   "source": [
    "LAB 4-9\n",
    "\n",
    "1.\n",
    "\n",
    "Dr. Gildong Hong\n",
    "\n",
    "2.\n",
    "\n",
    "Gildong Hong Dr."
   ]
  },
  {
   "cell_type": "markdown",
   "id": "4bdab348",
   "metadata": {},
   "source": [
    "LAB 4-10\n",
    "\n",
    "1.\n",
    "<pre><code>\n",
    "def sum_nums(*args):\n",
    "    n = 0\n",
    "    a = []\n",
    "    sum = 0\n",
    "    for i in args:\n",
    "        n += 1\n",
    "        a.append(i)\n",
    "        sum += i\n",
    "    b = tuple(a)\n",
    "    print(f\"{n} 개의 인자 {b}\\n합계 : {sum} , 평균 : {sum / n}\")\n",
    "\n",
    "sum_nums(10, 20, 30)\n",
    "sum_nums(10, 20, 30, 40, 50)\n",
    "</code></pre>\n",
    "\n",
    "2.\n",
    "\n",
    "<pre><code>\n",
    "def min_nums(*args):\n",
    "    arr = list(args)\n",
    "    min = arr[0]\n",
    "    for i in range(1, len(arr)):\n",
    "        if arr[i] < min:\n",
    "            min = arr[i]\n",
    "    print(f\"최솟값은 {min}\")\n",
    "\n",
    "min_nums(20, 40, 50, 10)\n",
    "\n",
    "</code></pre>"
   ]
  },
  {
   "cell_type": "markdown",
   "id": "2091e350",
   "metadata": {},
   "source": [
    "LAB 4-11\n",
    "\n",
    "1.\n",
    "\n",
    "a)\n",
    "\n",
    "<pre><code>\n",
    "name = input('당신의 이름을 입력해주세요 : ')\n",
    "age = input('나이를 입력해주세요 : ')\n",
    "job = input('직업을 입력해주세요 : ')\n",
    "home = input('사는 곳을 입력해주세요 : ')\n",
    "print('당신의 이름은 {}, 나이는 {}살, 직업은 {}, 사는 곳은 {}입니다.'.format(name, age, job, home))\n",
    "</code></pre>\n",
    "\n",
    "b)\n",
    "\n",
    "<pre><code>\n",
    "name = input('당신의 이름을 입력해주세요 : ')\n",
    "age = input('나이를 입력해주세요 : ')\n",
    "job = input('직업을 입력해주세요 : ')\n",
    "home = input('사는 곳을 입력해주세요 : ')\n",
    "print(f\"당신의 이름은 {name}, 나이는 {age}살, 직업은 {job}, 사는 곳은 {home}입니다.\")\n",
    "</code></pre>\n"
   ]
  },
  {
   "cell_type": "markdown",
   "id": "4ea0ba9d",
   "metadata": {},
   "source": [
    "LAB 4-12\n",
    "\n",
    "1.\n",
    "<pre><code>\n",
    "a = \"ABCD\"\n",
    "b = []\n",
    "for i in range(len(a)):\n",
    "    b.append(a[i])\n",
    "\n",
    "c = '_'.join(b)\n",
    "print(c)\n",
    "</code></pre>\n",
    "\n",
    "2.\n",
    "<pre><code>\n",
    "s = \"My favorite thing is monsters.\"\n",
    "t = s.replace(\"monsters\", \"cartoons\")\n",
    "print(t)\n",
    "</code></pre>"
   ]
  }
 ],
 "metadata": {
  "kernelspec": {
   "display_name": "Python 3 (ipykernel)",
   "language": "python",
   "name": "python3"
  },
  "language_info": {
   "codemirror_mode": {
    "name": "ipython",
    "version": 3
   },
   "file_extension": ".py",
   "mimetype": "text/x-python",
   "name": "python",
   "nbconvert_exporter": "python",
   "pygments_lexer": "ipython3",
   "version": "3.9.7"
  }
 },
 "nbformat": 4,
 "nbformat_minor": 5
}
