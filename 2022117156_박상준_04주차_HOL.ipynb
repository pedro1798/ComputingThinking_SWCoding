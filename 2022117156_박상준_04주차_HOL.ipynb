{
 "cells": [
  {
   "cell_type": "code",
   "execution_count": 1,
   "id": "ec2d74cd",
   "metadata": {},
   "outputs": [
    {
     "name": "stdout",
     "output_type": "stream",
     "text": [
      "even_list = [2, 4, 6, 8, 10]\n"
     ]
    }
   ],
   "source": [
    "#LAB 5-1, 1\n",
    "even = [2, 4, 6, 8 ,10]\n",
    "print(f\"even_list = {even}\")\n"
   ]
  },
  {
   "cell_type": "code",
   "execution_count": 5,
   "id": "b9dabcba",
   "metadata": {
    "scrolled": true
   },
   "outputs": [
    {
     "name": "stdout",
     "output_type": "stream",
     "text": [
      "[2, 4, 6, 8, 10]\n"
     ]
    }
   ],
   "source": [
    "# 5-1, 2\n",
    "a = []\n",
    "for i in range(2, 11, 2):\n",
    "    a.append(i)\n",
    "print(a)"
   ]
  },
  {
   "cell_type": "code",
   "execution_count": 6,
   "id": "0fdb1230",
   "metadata": {},
   "outputs": [
    {
     "name": "stdout",
     "output_type": "stream",
     "text": [
      "nations = ['Korea', 'China', 'India', 'Nepal']\n"
     ]
    }
   ],
   "source": [
    "# 5-1, 3\n",
    "a = ['Korea', 'China', 'India', 'Nepal']\n",
    "print(f\"nations = {a}\")"
   ]
  },
  {
   "cell_type": "code",
   "execution_count": 7,
   "id": "7b85365f",
   "metadata": {},
   "outputs": [
    {
     "name": "stdout",
     "output_type": "stream",
     "text": [
      "friends = ['길동', '철수', '은지', '지은', '영민']\n"
     ]
    }
   ],
   "source": [
    "# 5-1. 4\n",
    "friends = ['길동', '철수', '은지', '지은', '영민']\n",
    "print(f\"friends = {friends}\")"
   ]
  },
  {
   "cell_type": "code",
   "execution_count": 8,
   "id": "7fa88027",
   "metadata": {},
   "outputs": [
    {
     "name": "stdout",
     "output_type": "stream",
     "text": [
      "string = ['x', 'y', 'z']\n"
     ]
    }
   ],
   "source": [
    "# 5-1, 5\n",
    "a = 'xyz'\n",
    "b = [a[0], a[1], a[2]]\n",
    "print(f\"string = {b}\")"
   ]
  },
  {
   "cell_type": "code",
   "execution_count": 9,
   "id": "c0233274",
   "metadata": {},
   "outputs": [
    {
     "name": "stdout",
     "output_type": "stream",
     "text": [
      "prime_list의 첫 원소 : 2\n"
     ]
    }
   ],
   "source": [
    "# LAB 5-2, 1\n",
    "prime_list = [2, 3, 5, 7]\n",
    "print(f\"prime_list의 첫 원소 : {prime_list[0]}\")"
   ]
  },
  {
   "cell_type": "code",
   "execution_count": 10,
   "id": "fe485a0b",
   "metadata": {},
   "outputs": [
    {
     "name": "stdout",
     "output_type": "stream",
     "text": [
      "prime_list의 마지막 원소 : 7\n"
     ]
    }
   ],
   "source": [
    "# 5-2, 2\n",
    "prime_list = [2, 3, 5, 7]\n",
    "print(f\"prime_list의 마지막 원소 : {prime_list[3]}\")"
   ]
  },
  {
   "cell_type": "code",
   "execution_count": 11,
   "id": "b14f8e06",
   "metadata": {},
   "outputs": [
    {
     "name": "stdout",
     "output_type": "stream",
     "text": [
      "prime_list의 마지막 원소 : 7\n"
     ]
    }
   ],
   "source": [
    "# 5-2, 3\n",
    "prime_list = [2, 3, 5, 7]\n",
    "print(f\"prime_list의 마지막 원소 : {prime_list[-1]}\")"
   ]
  },
  {
   "cell_type": "code",
   "execution_count": 12,
   "id": "9e102097",
   "metadata": {},
   "outputs": [
    {
     "name": "stdout",
     "output_type": "stream",
     "text": [
      "nations의 첫 원소 : Korea\n"
     ]
    }
   ],
   "source": [
    "# 5-2. 4\n",
    "nations = ['Korea', 'China', 'Russia', 'Malaysia']\n",
    "print(f\"nations의 첫 원소 : {nations[0]}\")"
   ]
  },
  {
   "cell_type": "code",
   "execution_count": 13,
   "id": "bd7f06b7",
   "metadata": {},
   "outputs": [
    {
     "name": "stdout",
     "output_type": "stream",
     "text": [
      "nations의 마지막 원소 : Malaysia\n"
     ]
    }
   ],
   "source": [
    "# 5-2, 5\n",
    "nations = ['Korea', 'China', 'Russia', 'Malaysia']\n",
    "print(f\"nations의 마지막 원소 : {nations[-1]}\")"
   ]
  },
  {
   "cell_type": "code",
   "execution_count": 14,
   "id": "8a37ca32",
   "metadata": {},
   "outputs": [
    {
     "name": "stdout",
     "output_type": "stream",
     "text": [
      "nations의 마지막 원소 : Malaysia\n"
     ]
    }
   ],
   "source": [
    "# 5-2, 6\n",
    "nations = ['Korea', 'China', 'Russia', 'Malaysia']\n",
    "print(f\"nations의 마지막 원소 : {nations[len(nations)-1]}\")"
   ]
  },
  {
   "cell_type": "code",
   "execution_count": 15,
   "id": "907cc719",
   "metadata": {},
   "outputs": [
    {
     "name": "stdout",
     "output_type": "stream",
     "text": [
      "소수 목록 : [2, 3, 5, 7]\n",
      "추가 후 소수 목록 : [2, 3, 5, 7, 11]\n"
     ]
    }
   ],
   "source": [
    "# LAB 5-3, 1\n",
    "prime_list = [2, 3, 5, 7]\n",
    "print(f\"소수 목록 : {prime_list}\")\n",
    "prime_list.append(11)\n",
    "print(f\"추가 후 소수 목록 : {prime_list}\")"
   ]
  },
  {
   "cell_type": "code",
   "execution_count": 16,
   "id": "95403a32",
   "metadata": {},
   "outputs": [
    {
     "name": "stdout",
     "output_type": "stream",
     "text": [
      "삭제 전 소수 목록 : [2, 3, 5, 7, 11]\n",
      "삭제 후 소수 목록 : [2, 5, 7, 11]\n"
     ]
    }
   ],
   "source": [
    "# 5-3, 2\n",
    "prime_list = [2, 3, 5, 7]\n",
    "prime_list.append(11)\n",
    "print(f\"삭제 전 소수 목록 : {prime_list}\")\n",
    "prime_list.remove(3)\n",
    "print(f\"삭제 후 소수 목록 : {prime_list}\")\n"
   ]
  },
  {
   "cell_type": "code",
   "execution_count": 17,
   "id": "4c21cb52",
   "metadata": {},
   "outputs": [
    {
     "name": "stdout",
     "output_type": "stream",
     "text": [
      "국가 목록 : ['Korea', 'China', 'Russia', 'Malaysia']\n",
      "추가 후 국가 목록 : ['Korea', 'China', 'Russia', 'Malaysia', 'Nepal']\n"
     ]
    }
   ],
   "source": [
    "# 5-3, 3\n",
    "nations = ['Korea', 'China', 'Russia', 'Malaysia']\n",
    "print(f\"국가 목록 : {nations}\")\n",
    "nations.append('Nepal')\n",
    "print(f\"추가 후 국가 목록 : {nations}\")"
   ]
  },
  {
   "cell_type": "code",
   "execution_count": 18,
   "id": "7d27be99",
   "metadata": {},
   "outputs": [
    {
     "name": "stdout",
     "output_type": "stream",
     "text": [
      "국가 목록 : ['Korea', 'China', 'Russia', 'Malaysia']\n",
      "추가 후 국가 목록 : ['Korea', 'China', 'Russia', 'Malaysia', 'Nepal']\n",
      "Japan 는(은) 국가 목록에 없습니다.\n",
      "Russia 는(은) 국가 목록에 있습니다.\n"
     ]
    }
   ],
   "source": [
    "# 5-3, 4\n",
    "nations = ['Korea', 'China', 'Russia', 'Malaysia']\n",
    "print(f\"국가 목록 : {nations}\")\n",
    "nations.append('Nepal')\n",
    "print(f\"추가 후 국가 목록 : {nations}\")\n",
    "if 'Japan' in nations:\n",
    "    print(\"Japan 는(은) 국가 목록에 있습니다.\")\n",
    "else:\n",
    "    print(\"Japan 는(은) 국가 목록에 없습니다.\")\n",
    "if 'Russia' in nations:\n",
    "    print(\"Russia 는(은) 국가 목록에 있습니다.\")\n",
    "else:\n",
    "    print(\"Russia 는(은) 국가 목록에 없습니다.\")\n"
   ]
  },
  {
   "cell_type": "code",
   "execution_count": 19,
   "id": "7029e985",
   "metadata": {},
   "outputs": [
    {
     "name": "stdout",
     "output_type": "stream",
     "text": [
      "1에서 10까지의 소수 : [2, 3, 5, 7]\n",
      "최솟값 : 2\n",
      "최댓값 : 7\n",
      "합계 : 17\n",
      "평균 : 4.25\n"
     ]
    }
   ],
   "source": [
    "# LAB 5-4, 1\n",
    "prime_list = [2, 3, 5, 7]\n",
    "print(f\"1에서 10까지의 소수 : {prime_list}\")\n",
    "print(f\"최솟값 : {min(prime_list)}\")\n",
    "print(f\"최댓값 : {max(prime_list)}\")\n",
    "print(f\"합계 : {sum(prime_list)}\")\n",
    "print(f\"평균 : {sum(prime_list) / len(prime_list)}\")\n"
   ]
  },
  {
   "cell_type": "code",
   "execution_count": 20,
   "id": "cc0c55a9",
   "metadata": {},
   "outputs": [
    {
     "name": "stdout",
     "output_type": "stream",
     "text": [
      "국가 목록 : ['Korea', 'China', 'Russia', 'Malaysia']\n",
      "사전에 가장 먼저 나오는 나라 : China\n",
      "사전에 가장 뒤에 나오는 나라 : Russia\n"
     ]
    }
   ],
   "source": [
    "# 5-4, 2\n",
    "nations = ['Korea', 'China', 'Russia', 'Malaysia']\n",
    "print(f\"국가 목록 : {nations}\")\n",
    "nations.sort()\n",
    "print(f\"사전에 가장 먼저 나오는 나라 : {nations[0]}\")\n",
    "print(f\"사전에 가장 뒤에 나오는 나라 : {nations[-1]}\")\n"
   ]
  },
  {
   "cell_type": "code",
   "execution_count": 21,
   "id": "76c79e53",
   "metadata": {},
   "outputs": [
    {
     "name": "stdout",
     "output_type": "stream",
     "text": [
      "[1, 2, 3, [10, 20, 30]]\n",
      "[1, 2, 3, 10, 20, 30]\n"
     ]
    },
    {
     "data": {
      "text/plain": [
       "[1, 2, 3, 10, 20, 30]"
      ]
     },
     "execution_count": 21,
     "metadata": {},
     "output_type": "execute_result"
    }
   ],
   "source": [
    "# LAB 5-5, 1\n",
    "# append는 덧붙이는 함수이므로 [1, 2, 3, [10, 20, 30]] \n",
    "# extend는 연장하는 함수이므로 [1, 2, 3, 10, 20, 30]\n",
    "a = [1, 2, 3]\n",
    "b = [10, 20, 30]\n",
    "a.append(b)\n",
    "print(a)\n",
    "a = [1, 2, 3]\n",
    "a.extend(b)\n",
    "print(a)\n",
    "\"\"\"\n",
    "[1, 2, 3, [10, 20, 30]]\n",
    "[1, 2, 3, 10, 20, 30]\n",
    "\"\"\""
   ]
  },
  {
   "cell_type": "code",
   "execution_count": 22,
   "id": "394abb4a",
   "metadata": {},
   "outputs": [
    {
     "name": "stdout",
     "output_type": "stream",
     "text": [
      "nlist = [1, 2, 3, 4, 5, 6, 7, 8, 9, 10]\n"
     ]
    }
   ],
   "source": [
    "# 5-5, 2\n",
    "nlist = [1, 2, 3, 4, 5, 6, 7, 8, 9, 10]\n",
    "print(f\"nlist = {nlist}\")"
   ]
  },
  {
   "cell_type": "code",
   "execution_count": 23,
   "id": "e62050a8",
   "metadata": {},
   "outputs": [],
   "source": [
    "# 5-5, 3\n",
    "nlist = [1, 2, 3, 4, 5, 6, 7, 8, 9, 10]\n",
    "nlist.insert(0, 0)\n",
    "print(f\"nlist = {nlist}\")"
   ]
  },
  {
   "cell_type": "code",
   "execution_count": 24,
   "id": "cbbe904a",
   "metadata": {},
   "outputs": [],
   "source": [
    "# 5-5, 4\n",
    "nlist = [1, 2, 3, 4, 5, 6, 7, 8, 9, 10]\n",
    "nlist.insert(0, 0)\n",
    "nlist.reverse()\n",
    "print(f\"nlist = {nlist}\")"
   ]
  },
  {
   "cell_type": "code",
   "execution_count": 28,
   "id": "2cd409e6",
   "metadata": {},
   "outputs": [
    {
     "name": "stdout",
     "output_type": "stream",
     "text": [
      "마지막 원소 = 0\n",
      "[10, 9, 8, 7, 6, 5, 4, 3, 2, 1]\n"
     ]
    }
   ],
   "source": [
    "# 5-5, 5\n",
    "nlist = [1, 2, 3, 4, 5, 6, 7, 8, 9, 10]\n",
    "nlist.insert(0, 0)\n",
    "nlist.reverse()\n",
    "print(f\"마지막 원소 = {nlist.pop()}\")\n",
    "print(nlist)"
   ]
  },
  {
   "cell_type": "code",
   "execution_count": 29,
   "id": "a0a618be",
   "metadata": {},
   "outputs": [
    {
     "name": "stdout",
     "output_type": "stream",
     "text": [
      "반복할 정수를 입력하시오 : "
     ]
    },
    {
     "ename": "ValueError",
     "evalue": "invalid literal for int() with base 10: ''",
     "output_type": "error",
     "traceback": [
      "\u001b[1;31m---------------------------------------------------------------------------\u001b[0m",
      "\u001b[1;31mValueError\u001b[0m                                Traceback (most recent call last)",
      "\u001b[1;32m<ipython-input-29-ed6b728b7f66>\u001b[0m in \u001b[0;36m<module>\u001b[1;34m\u001b[0m\n\u001b[0;32m      4\u001b[0m \u001b[0mlist\u001b[0m \u001b[1;33m=\u001b[0m \u001b[1;33m[\u001b[0m\u001b[1;33m]\u001b[0m\u001b[1;33m\u001b[0m\u001b[1;33m\u001b[0m\u001b[0m\n\u001b[0;32m      5\u001b[0m \u001b[0mprint\u001b[0m\u001b[1;33m(\u001b[0m\u001b[1;34m\"반복할 정수를 입력하시오 : \"\u001b[0m\u001b[1;33m,\u001b[0m \u001b[0mend\u001b[0m \u001b[1;33m=\u001b[0m \u001b[1;34m\"\"\u001b[0m\u001b[1;33m)\u001b[0m\u001b[1;33m\u001b[0m\u001b[1;33m\u001b[0m\u001b[0m\n\u001b[1;32m----> 6\u001b[1;33m \u001b[0mn\u001b[0m \u001b[1;33m=\u001b[0m \u001b[0mint\u001b[0m\u001b[1;33m(\u001b[0m\u001b[0msys\u001b[0m\u001b[1;33m.\u001b[0m\u001b[0mstdin\u001b[0m\u001b[1;33m.\u001b[0m\u001b[0mreadline\u001b[0m\u001b[1;33m(\u001b[0m\u001b[1;33m)\u001b[0m\u001b[1;33m)\u001b[0m\u001b[1;33m\u001b[0m\u001b[1;33m\u001b[0m\u001b[0m\n\u001b[0m\u001b[0;32m      7\u001b[0m \u001b[1;32mfor\u001b[0m \u001b[0mi\u001b[0m \u001b[1;32min\u001b[0m \u001b[0mrange\u001b[0m\u001b[1;33m(\u001b[0m\u001b[0mn\u001b[0m\u001b[1;33m)\u001b[0m\u001b[1;33m:\u001b[0m\u001b[1;33m\u001b[0m\u001b[1;33m\u001b[0m\u001b[0m\n\u001b[0;32m      8\u001b[0m     \u001b[0mlist\u001b[0m\u001b[1;33m.\u001b[0m\u001b[0mextend\u001b[0m\u001b[1;33m(\u001b[0m\u001b[0mtemp\u001b[0m\u001b[1;33m)\u001b[0m\u001b[1;33m\u001b[0m\u001b[1;33m\u001b[0m\u001b[0m\n",
      "\u001b[1;31mValueError\u001b[0m: invalid literal for int() with base 10: ''"
     ]
    }
   ],
   "source": [
    "# LAB 5-6, 1\n",
    "import  sys\n",
    "temp = [1, 2, 3]\n",
    "list = []\n",
    "print(\"반복할 정수를 입력하시오 : \", end = \"\")\n",
    "n = int(sys.stdin.readline())\n",
    "for i in range(n):\n",
    "    list.extend(temp)\n",
    "print(list)"
   ]
  },
  {
   "cell_type": "code",
   "execution_count": null,
   "id": "15c11fde",
   "metadata": {},
   "outputs": [],
   "source": [
    "# LAB 5-7, 1\n",
    "n = []\n",
    "for i in range(15):\n",
    "    print(i)\n",
    "    n.append(str(i))\n",
    "int_list = list(map(int, n))\n",
    "print(int_list)"
   ]
  },
  {
   "cell_type": "code",
   "execution_count": 30,
   "id": "f0072fd7",
   "metadata": {},
   "outputs": [
    {
     "ename": "TypeError",
     "evalue": "'list' object is not callable",
     "output_type": "error",
     "traceback": [
      "\u001b[1;31m---------------------------------------------------------------------------\u001b[0m",
      "\u001b[1;31mTypeError\u001b[0m                                 Traceback (most recent call last)",
      "\u001b[1;32m<ipython-input-30-bb0ea152f522>\u001b[0m in \u001b[0;36m<module>\u001b[1;34m\u001b[0m\n\u001b[0;32m      3\u001b[0m \u001b[1;32mfor\u001b[0m \u001b[0mi\u001b[0m \u001b[1;32min\u001b[0m \u001b[0mrange\u001b[0m\u001b[1;33m(\u001b[0m\u001b[1;36m15\u001b[0m\u001b[1;33m)\u001b[0m\u001b[1;33m:\u001b[0m\u001b[1;33m\u001b[0m\u001b[1;33m\u001b[0m\u001b[0m\n\u001b[0;32m      4\u001b[0m     \u001b[0mn\u001b[0m\u001b[1;33m.\u001b[0m\u001b[0mappend\u001b[0m\u001b[1;33m(\u001b[0m\u001b[0mstr\u001b[0m\u001b[1;33m(\u001b[0m\u001b[0mi\u001b[0m\u001b[1;33m)\u001b[0m\u001b[1;33m)\u001b[0m\u001b[1;33m\u001b[0m\u001b[1;33m\u001b[0m\u001b[0m\n\u001b[1;32m----> 5\u001b[1;33m \u001b[0mn_list\u001b[0m \u001b[1;33m=\u001b[0m \u001b[0mlist\u001b[0m\u001b[1;33m(\u001b[0m\u001b[0mmap\u001b[0m\u001b[1;33m(\u001b[0m\u001b[0mint\u001b[0m\u001b[1;33m,\u001b[0m \u001b[0mn\u001b[0m\u001b[1;33m)\u001b[0m\u001b[1;33m)\u001b[0m\u001b[1;33m\u001b[0m\u001b[1;33m\u001b[0m\u001b[0m\n\u001b[0m\u001b[0;32m      6\u001b[0m \u001b[0mrev\u001b[0m \u001b[1;33m=\u001b[0m \u001b[0mn_list\u001b[0m\u001b[1;33m[\u001b[0m\u001b[1;33m:\u001b[0m\u001b[1;33m:\u001b[0m\u001b[1;33m-\u001b[0m\u001b[1;36m1\u001b[0m\u001b[1;33m]\u001b[0m\u001b[1;33m\u001b[0m\u001b[1;33m\u001b[0m\u001b[0m\n\u001b[0;32m      7\u001b[0m \u001b[0mprint\u001b[0m\u001b[1;33m(\u001b[0m\u001b[1;34mf\"s_list1 = {n_list[0 : 5]}\"\u001b[0m\u001b[1;33m)\u001b[0m\u001b[1;33m\u001b[0m\u001b[1;33m\u001b[0m\u001b[0m\n",
      "\u001b[1;31mTypeError\u001b[0m: 'list' object is not callable"
     ]
    }
   ],
   "source": [
    "# 5-7, 2\n",
    "n = []\n",
    "for i in range(15):\n",
    "    n.append(str(i))\n",
    "n_list = list(map(int, n))\n",
    "rev = n_list[::-1]\n",
    "print(f\"s_list1 = {n_list[0 : 5]}\")\n",
    "print(f\"s_list2 = {n_list[5:11]}\")\n",
    "print(f\"s_list3 = {n_list[11 : 15]}\")\n",
    "print(f\"s_list4 = {n_list[2 : 11 : 2]}\")\n",
    "print(f\"s_list5 = {rev[4:9]}\")\n",
    "print(f\"s_list6 = {rev[4:14 : 2]}\")\n"
   ]
  },
  {
   "cell_type": "code",
   "execution_count": 31,
   "id": "2cc40600",
   "metadata": {},
   "outputs": [
    {
     "name": "stdout",
     "output_type": "stream",
     "text": [
      "Seoul\n",
      "Beijing\n",
      "Washington DC\n"
     ]
    }
   ],
   "source": [
    "# LAB 6-1, 1\n",
    "# LAB 8, 11, 12 빼고 풀기\n",
    "capital_dic = {'Korea' : 'Seoul', 'China' : 'Beijing', 'USA' : 'Washington DC'}\n",
    "print(capital_dic['Korea'])\n",
    "print(capital_dic['China'])\n",
    "print(capital_dic['USA'])"
   ]
  },
  {
   "cell_type": "code",
   "execution_count": 32,
   "id": "496299c0",
   "metadata": {},
   "outputs": [
    {
     "name": "stdout",
     "output_type": "stream",
     "text": [
      "apple의 가격은 5000원 입니다.\n",
      "banana의 가격은 4000원 입니다.\n",
      "grape의 가격은 5300원 입니다.\n",
      "melon의 가격은 6500원 입니다.\n"
     ]
    }
   ],
   "source": [
    "# 6-1, 2\n",
    "fruit_dic = {'apple' : '5000', 'banana' : '4000', 'grape' : '5300', 'melon' : '6500'}\n",
    "print(f\"apple의 가격은 {fruit_dic['apple']}원 입니다.\")\n",
    "print(f\"banana의 가격은 {fruit_dic['banana']}원 입니다.\")\n",
    "print(f\"grape의 가격은 {fruit_dic['grape']}원 입니다.\")\n",
    "print(f\"melon의 가격은 {fruit_dic['melon']}원 입니다.\")"
   ]
  },
  {
   "cell_type": "code",
   "execution_count": 33,
   "id": "7990a5f2",
   "metadata": {},
   "outputs": [
    {
     "name": "stdout",
     "output_type": "stream",
     "text": [
      "{'이름': '홍길동', '나이': '26', '몸무게': '82', '특기': '분신술'}\n"
     ]
    }
   ],
   "source": [
    "# LAB 6-2, 1\n",
    "person = {'이름' : '홍길동', '나이' : '26', '몸무게' : '82'}\n",
    "person['특기'] = '분신술'\n",
    "print(person)"
   ]
  },
  {
   "cell_type": "code",
   "execution_count": 34,
   "id": "9aa15744",
   "metadata": {},
   "outputs": [
    {
     "name": "stdout",
     "output_type": "stream",
     "text": [
      "{'이름': '홍길동', '나이': '26', '몸무게': '82', '특기': '분신술', '아버지': '홍판서'}\n"
     ]
    }
   ],
   "source": [
    "# 6-2, 2\n",
    "person = {'이름' : '홍길동', '나이' : '26', '몸무게' : '82'}\n",
    "person['특기'] = '분신술'\n",
    "person['아버지'] = '홍판서'\n",
    "print(person)"
   ]
  },
  {
   "cell_type": "code",
   "execution_count": 35,
   "id": "d0404493",
   "metadata": {},
   "outputs": [
    {
     "name": "stdout",
     "output_type": "stream",
     "text": [
      "{'이름': '홍길동', '몸무게': '82', '특기': '분신술', '아버지': '홍판서'}\n"
     ]
    }
   ],
   "source": [
    "# 6-2, 3\n",
    "person = {'이름' : '홍길동', '나이' : '26', '몸무게' : '82'}\n",
    "person['특기'] = '분신술'\n",
    "person['아버지'] = '홍판서'\n",
    "del person['나이']\n",
    "print(person)"
   ]
  },
  {
   "cell_type": "code",
   "execution_count": 36,
   "id": "e86529d2",
   "metadata": {},
   "outputs": [
    {
     "name": "stdout",
     "output_type": "stream",
     "text": [
      "True\n",
      "True\n",
      "False\n",
      "False\n"
     ]
    }
   ],
   "source": [
    "# LAB 6-3\n",
    "capital_dic = {'Korea' : 'Seoul', 'China' : 'Beijing', 'USA' : 'Washington DC'}\n",
    "if 'Korea' in capital_dic:\n",
    "    print('True')\n",
    "else:\n",
    "    print('False')\n",
    "if 'China' in capital_dic:\n",
    "    print('True')\n",
    "else:\n",
    "    print('False')\n",
    "if 'Indonesia' in capital_dic:\n",
    "    print('True')\n",
    "else:\n",
    "    print('False')\n",
    "if 'Beijing' in capital_dic:\n",
    "    print('True')\n",
    "else:\n",
    "    print('False')"
   ]
  },
  {
   "cell_type": "code",
   "execution_count": 37,
   "id": "a984b944",
   "metadata": {},
   "outputs": [
    {
     "name": "stdout",
     "output_type": "stream",
     "text": [
      "dict_keys(['apple', 'melon', 'banana', 'orange'])\n",
      "dict_values(['6000', '3000', '5000', '7000'])\n",
      "{'melon': '3000', 'banana': '5000', 'orange': '7000'}\n"
     ]
    }
   ],
   "source": [
    "# LAB 6-4, 1,2,3,4,5\n",
    "fruit_dic = {'apple' : '6000', 'melon' : '3000', 'banana' : '5000', 'orange' : '7000'}\n",
    "#1\n",
    "print(fruit_dic.keys())\n",
    "#2\n",
    "print(fruit_dic.values())\n",
    "#3\n",
    "fruit_dic.pop('apple')\n",
    "print(fruit_dic)\n",
    "#4\n",
    "fruit_dic.clear()"
   ]
  },
  {
   "cell_type": "code",
   "execution_count": 38,
   "id": "08ef1428",
   "metadata": {},
   "outputs": [
    {
     "ename": "TypeError",
     "evalue": "'list' object is not callable",
     "output_type": "error",
     "traceback": [
      "\u001b[1;31m---------------------------------------------------------------------------\u001b[0m",
      "\u001b[1;31mTypeError\u001b[0m                                 Traceback (most recent call last)",
      "\u001b[1;32m<ipython-input-38-f7a78124e91d>\u001b[0m in \u001b[0;36m<module>\u001b[1;34m\u001b[0m\n\u001b[0;32m      2\u001b[0m \u001b[1;31m#1\u001b[0m\u001b[1;33m\u001b[0m\u001b[1;33m\u001b[0m\u001b[1;33m\u001b[0m\u001b[0m\n\u001b[0;32m      3\u001b[0m \u001b[0mfruit_dic\u001b[0m \u001b[1;33m=\u001b[0m \u001b[1;33m{\u001b[0m\u001b[1;34m'apple'\u001b[0m \u001b[1;33m:\u001b[0m \u001b[1;34m'6000'\u001b[0m\u001b[1;33m,\u001b[0m \u001b[1;34m'melon'\u001b[0m \u001b[1;33m:\u001b[0m \u001b[1;34m'3000'\u001b[0m\u001b[1;33m,\u001b[0m \u001b[1;34m'banana'\u001b[0m \u001b[1;33m:\u001b[0m \u001b[1;34m'5000'\u001b[0m\u001b[1;33m,\u001b[0m \u001b[1;34m'orange'\u001b[0m \u001b[1;33m:\u001b[0m \u001b[1;34m'7000'\u001b[0m\u001b[1;33m}\u001b[0m\u001b[1;33m\u001b[0m\u001b[1;33m\u001b[0m\u001b[0m\n\u001b[1;32m----> 4\u001b[1;33m \u001b[0ma\u001b[0m \u001b[1;33m=\u001b[0m \u001b[0mlist\u001b[0m\u001b[1;33m(\u001b[0m\u001b[0mmap\u001b[0m\u001b[1;33m(\u001b[0m\u001b[0mstr\u001b[0m\u001b[1;33m,\u001b[0m \u001b[0mfruit_dic\u001b[0m\u001b[1;33m.\u001b[0m\u001b[0mkeys\u001b[0m\u001b[1;33m(\u001b[0m\u001b[1;33m)\u001b[0m\u001b[1;33m)\u001b[0m\u001b[1;33m)\u001b[0m\u001b[1;33m\u001b[0m\u001b[1;33m\u001b[0m\u001b[0m\n\u001b[0m\u001b[0;32m      5\u001b[0m \u001b[0mprint\u001b[0m\u001b[1;33m(\u001b[0m\u001b[0ma\u001b[0m\u001b[1;33m)\u001b[0m\u001b[1;33m\u001b[0m\u001b[1;33m\u001b[0m\u001b[0m\n\u001b[0;32m      6\u001b[0m \u001b[1;31m#2\u001b[0m\u001b[1;33m\u001b[0m\u001b[1;33m\u001b[0m\u001b[1;33m\u001b[0m\u001b[0m\n",
      "\u001b[1;31mTypeError\u001b[0m: 'list' object is not callable"
     ]
    }
   ],
   "source": [
    "# LAB 6-5, 1,2,3,4\n",
    "#1\n",
    "fruit_dic = {'apple' : '6000', 'melon' : '3000', 'banana' : '5000', 'orange' : '7000'}\n",
    "a = list(map(str, fruit_dic.keys()))\n",
    "print(a)\n",
    "#2\n",
    "a = list(map(str, fruit_dic.values()))\n",
    "print(a)\n",
    "#3\n",
    "print(f\"fruits_dic 딕셔너리의 항목의 개수 : {len(fruit_dic)}\")\n",
    "#4\n",
    "if 'apple' in fruit_dic:\n",
    "    print('apple is in fruits_dic.')\n",
    "else:\n",
    "    print('apple is not in fruits_dic.')\n",
    "if 'mango' in fruit_dic:\n",
    "    print('mango is in fruits_dic.')\n",
    "else:\n",
    "    print('mango is not in fruits_dic.')"
   ]
  },
  {
   "cell_type": "code",
   "execution_count": 39,
   "id": "12009b1d",
   "metadata": {},
   "outputs": [
    {
     "name": "stdout",
     "output_type": "stream",
     "text": [
      "1919년 3월 1일은 삼일절입니다.\n",
      "a = 10\n",
      "b = 20\n",
      "c = 30\n"
     ]
    }
   ],
   "source": [
    "# LAB 6-6 1, 2\n",
    "#1\n",
    "the_day = (1919, 3, 1)\n",
    "year, month, day = the_day\n",
    "print(f\"{year}년 {month}월 {day}일은 삼일절입니다.\")\n",
    "#2\n",
    "list1 = [10, 20, 30]\n",
    "tuple1 = tuple(list1)\n",
    "a, b, c = tuple1\n",
    "print(f\"a = {a}\\nb = {b}\\nc = {c}\")"
   ]
  },
  {
   "cell_type": "code",
   "execution_count": 1,
   "id": "0773e75e",
   "metadata": {},
   "outputs": [
    {
     "ename": "SyntaxError",
     "evalue": "invalid syntax (Temp/ipykernel_4920/1531867162.py, line 6)",
     "output_type": "error",
     "traceback": [
      "\u001b[1;36m  File \u001b[1;32m\"C:\\Users\\peter\\AppData\\Local\\Temp/ipykernel_4920/1531867162.py\"\u001b[1;36m, line \u001b[1;32m6\u001b[0m\n\u001b[1;33m    TypeError: 'tuple' object does not support item assignment\u001b[0m\n\u001b[1;37m                       ^\u001b[0m\n\u001b[1;31mSyntaxError\u001b[0m\u001b[1;31m:\u001b[0m invalid syntax\n"
     ]
    }
   ],
   "source": [
    "# LAB 6-7 1, 2\n",
    "#1\n",
    "person = ('홍길동', 2019001, 179)\n",
    "\n",
    "#2\n",
    "person[1] = 2019003\n",
    "TypeError: 'tuple' object does not support item assignment\n",
    "    \n",
    "#3\n",
    "person = ('홍길동', 2019001, 179)\n",
    "a = list(person)\n",
    "a[1] = 202003\n",
    "person = tuple(a)\n",
    "print(person)"
   ]
  },
  {
   "cell_type": "code",
   "execution_count": 2,
   "id": "907203f7",
   "metadata": {},
   "outputs": [],
   "source": [
    "# LAB 6-9 1, 2\n",
    "#1\n",
    "lst = ['apple', 'mango', 'banana']\n",
    "s1 = set(lst)\n",
    "print(s1)\n",
    "\n",
    "#2\n",
    "greet = 'Good afternoon'\n",
    "a = set(greet)\n",
    "print(a)"
   ]
  },
  {
   "cell_type": "code",
   "execution_count": null,
   "id": "a3aeb899",
   "metadata": {},
   "outputs": [],
   "source": [
    "# LAB 6-10\n",
    "\n",
    "\"\"\"\n",
    "1) {10, 20, 30, 40, 50, 60, 70}\n",
    "2) {30, 40}\n",
    "3) {10, 20}\n",
    "4) {10, 20, 50, 60, 70}\n",
    "5) False\n",
    "6) False\n",
    "7) False\n",
    "\"\"\""
   ]
  }
 ],
 "metadata": {
  "kernelspec": {
   "display_name": "Python 3 (ipykernel)",
   "language": "python",
   "name": "python3"
  },
  "language_info": {
   "codemirror_mode": {
    "name": "ipython",
    "version": 3
   },
   "file_extension": ".py",
   "mimetype": "text/x-python",
   "name": "python",
   "nbconvert_exporter": "python",
   "pygments_lexer": "ipython3",
   "version": "3.9.7"
  }
 },
 "nbformat": 4,
 "nbformat_minor": 5
}
